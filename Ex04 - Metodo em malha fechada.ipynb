{
 "cells": [
  {
   "cell_type": "markdown",
   "metadata": {},
   "source": [
    "# TMSD - Ex04 - `[escreva seu nome aqui]` - `[escreva seu RA aqui]`\n",
    "\n",
    "Neste exercício você fará a modelagem do sistema pelo método de identificação em malha fechada ($\\mathcal{M}_4$). Para isso, o sistema original não linear ($\\mathcal{M}_0$) será usado para obter os dados necessários.\n",
    "\n",
    "**Objetivos**\n",
    "- Simular o processo $\\mathcal{M}_0$ para obter dados de resposta ao degrau\n",
    "- Obter o modelo $\\mathcal{M}_4$ pelo método de identificação em malha fechada\n",
    "- Simular a resposta ao degrau de $\\mathcal{M}_0$, $\\mathcal{M}_2$ e $\\mathcal{M}_3$ e comparar\n",
    "- Analisar os resultados\n",
    "\n",
    "Para a simulação, você pode usar a função de integração numérica abaixo. **Importe as bibliotecas necessárias na célula abaixo.**"
   ]
  },
  {
   "cell_type": "code",
   "execution_count": 2,
   "metadata": {
    "code_folding": [],
    "run_control": {
     "marked": false
    }
   },
   "outputs": [],
   "source": [
    "### SEU CÓDIGO COMEÇA AQUI ###\n",
    "# Bibliotecas\n",
    "\n",
    "### FIM DO CÓDIGO ###\n",
    "\n",
    "# Integração numérica (eficiente)\n",
    "def intRK2(odeFun, x0, t, args=()):\n",
    "    \"\"\"\n",
    "    Runge-Kutta integration (same parameters as scipy.integrate.odeint)\n",
    "    \n",
    "    Inputs:\n",
    "       - odeFun: (callable) ordinary differential equation, e.g. \"x, t: odeFun(x, t)\"\n",
    "       - x0: vector of initial states, ex. \"x0 = np.array([1.0, 0.3, 3.1])\" for a 3D system\n",
    "       - t: np.array containing the time stamps, ex \"t=np.arange(0, 100, 0.02)\"\n",
    "    \n",
    "    Outputs:\n",
    "       - x: array of states, shape (len(t), len(x0))\n",
    "       - t: array of time stamps, shape (len(t))\n",
    "    \n",
    "    MACSIN - v001 - Leandro Freitas (dez-2017)\n",
    "    \"\"\"\n",
    "    \n",
    "    # pre-allocate state vector\n",
    "    x = np.empty((len(t),len(x0)))\n",
    "    \n",
    "    @jit(nopython=True)\n",
    "    def auxFunc(x0, t, x, args):\n",
    "        # initial state\n",
    "        x[0, :] = x0\n",
    "\n",
    "        # integration step\n",
    "        dt = t[1]-t[0]\n",
    "\n",
    "        # loop to compute the states\n",
    "        for k in range(1, len(t)):\n",
    "            k1F = dt*odeFun(x[k-1, :], t[k], *args)\n",
    "            k2F = dt*odeFun(x[k-1, :] + k1F/2., t[k], *args)\n",
    "            k3F = dt*odeFun(x[k-1, :] + k2F/2., t[k], *args)\n",
    "            k4F = dt*odeFun(x[k-1, :] + k3F, t[k], *args)\n",
    "            # compute the actual state\n",
    "            x[k, :] = x[k-1, :] + (k1F+2.*k2F+2.*k3F+k4F)/6.\n",
    "\n",
    "        return x\n",
    "    \n",
    "    return auxFunc(x0, t, x, args)"
   ]
  },
  {
   "cell_type": "markdown",
   "metadata": {},
   "source": [
    "## Coleta de dados no Processo Não-linear\n",
    "\n",
    "Primeiro, vamos obter os dados de simulação.\n",
    "\n",
    "<mark>**Fazer: dados em MALHA FECHADA para estimação do modelo.**</mark>\n",
    "1. Simule o processo não linear **em malha fechada**;\n",
    "1. Primeiro, crie uma função de referência `r(t)`, que, similarmente ao que foi feito com entrada ao degrau para testes em malha aberta, implemente um degrau;\n",
    "1. Modifique a função de entrada $u(t)$ para $u(t,x)$. Ou seja a função de entrada deve receber um segundo argumento que é o vetor de estados. Lembre-se de fazer a mudança na definição da função e também onde ela é usada na equação diferencial;\n",
    "1. Na nova função de entrada, `u(t, x)`, crie uma variável ganho `K` atribuindo um valor constante;\n",
    "1. Ainda em `u(t, x)`, faça-a retornar um ganho `K` multiplicando o erro (saída menos a referência). Por exemplo, para um sistema com três variáveis de estado $x=[x_1 \\: x_2 \\: x_3]^\\top$, em que a saída é o segundo estado, calcularíamos $u(t,x)=K[y(t)-r(t)]$ implementando `return K*(x[:,1]-r(t))`, em que `x[:,1]` representa o segundo estado, que é a saída do sistema;\n",
    "1. Simule a resposta do sistema de modo a ficar estável em malha fechada;\n",
    "1. Obtenha os dados de entrada de referência `r0_1` e saída `y0_1` da resposta ao degrau em malha fechada. Esse conjunto de dados será usado para estimar o modelo.\n",
    "1. Mostre a resposta ao degrau obtida em dois gráficos, um para entrada (referência) e outro para a saída dos dados (`r0_1`, `y0_1`);\n",
    "\n",
    "***Obs.**: Todo gráfico deve ter rótulo nos eixos. Ajuste as escalas e eixos dos gráficos de forma a ficarem bem apresentados!!!*"
   ]
  },
  {
   "cell_type": "code",
   "execution_count": 4,
   "metadata": {},
   "outputs": [],
   "source": [
    "### SEU CÓDIGO COMEÇA AQUI ###\n",
    "\n",
    "### FIM DO CÓDIGO ###"
   ]
  },
  {
   "cell_type": "markdown",
   "metadata": {},
   "source": [
    "**Saída esperada**:\n",
    "\n",
    "- Gráfico da entrada (referência) do sistema em malha fechada\n",
    "- Gráfico da saída do sistema em malha fechada\n",
    "___\n",
    "<mark>**Fazer: dados em MALHA ABERTA para verificar o desempenho do modelo (pode usar os mesmos testes do último exercício).**</mark>\n",
    "1. Obtenha dados de testes **em malha aberta**, como feito no exercício `Ex02`, para verificar o desempenho do modelo obtido;\n",
    "1. Obtenha um conjunto de dados de entrada `u0_2` e saída `y0_2` por uma resposta ao degrau **em malha aberta** próximo da região de operação. Esse conjunto de dados será usado apenas para comparar a resposta do processo com a resposta dos modelos;\n",
    "1. Obtenha também um terceiro conjunto de dados de entrada `u0_3` e saída `y0_3` por uma resposta ao degrau **em malha aberta** mais afastada do ponto de operação do sistema. Esse conjunto de dados será usado apenas para comparar a resposta do processo com a resposta dos modelos;\n",
    "1. Mostre as saídas `y0_2` e `y0_3` em dois gráficos distintos.\n",
    "\n",
    "***Obs.**: Todo gráfico deve ter rótulo nos eixos. Ajuste as escalas e eixos dos gráficos de forma a ficarem bem apresentados!!!*"
   ]
  },
  {
   "cell_type": "code",
   "execution_count": 4,
   "metadata": {},
   "outputs": [],
   "source": [
    "### SEU CÓDIGO COMEÇA AQUI ###\n",
    "\n",
    "### FIM DO CÓDIGO ###"
   ]
  },
  {
   "cell_type": "markdown",
   "metadata": {},
   "source": [
    "**Saída esperada**:\n",
    "\n",
    "- Gráfico da saída do sistema em malha aberta para um degrau próximo do ponto de operação\n",
    "- Gráfico da saída do sistema em malha aberta para um degrau afastado do ponto de operação\n",
    "___\n",
    "\n",
    "## Modelo FOPDT $\\mathcal{M}_4$\n",
    "\n",
    "<mark>**Fazer:** obtenha o modelo com os dados de malha fechada.</mark>\n",
    "1. Obtenha o modelo $\\mathcal{M}_4$ de primeira ordem com atraso puro de tempo para o sistema\n",
    "2. Mostre um gráfico (com grid!) comparando as duas saídas `y0_1` (processo) e `y4_1` (modelo) **em malha fechada**. Lembre-se de implementar o modelo obtido em malha fechada também.\n",
    "\n",
    "**Você deve mostrar todos os passos usados para cálculo dos parâmetros. Use mais de uma célula se precisar (até três, no máximo!).**"
   ]
  },
  {
   "cell_type": "code",
   "execution_count": 8,
   "metadata": {},
   "outputs": [],
   "source": [
    "### SEU CÓDIGO COMEÇA AQUI ###\n",
    "None\n",
    "### FIM DO CÓDIGO ###"
   ]
  },
  {
   "cell_type": "code",
   "execution_count": 8,
   "metadata": {},
   "outputs": [],
   "source": [
    "### SEU CÓDIGO COMEÇA AQUI ###\n",
    "None\n",
    "### FIM DO CÓDIGO ###"
   ]
  },
  {
   "cell_type": "code",
   "execution_count": 8,
   "metadata": {},
   "outputs": [],
   "source": [
    "### SEU CÓDIGO COMEÇA AQUI ###\n",
    "None\n",
    "### FIM DO CÓDIGO ###"
   ]
  },
  {
   "cell_type": "markdown",
   "metadata": {},
   "source": [
    "**Saída esperada**:\n",
    "\n",
    "- Gráfico da saída do processo $\\mathcal{M}_0$ e do modelo $\\mathcal{M}_4$ para um degrau próximo do ponto de operação\n",
    "___\n",
    "\n",
    "## Avaliando o modelo $\\mathcal{M}_4$ em malha aberta\n",
    "\n",
    "<mark>**Fazer:** comparação.</mark>\n",
    "1. Mostre um mesmo gráfico comparando as três saídas `y0_2` (processo), `y4_2` (modelo)\n",
    "1. Mostre um mesmo gráfico comparando as três saídas `y0_3` (processo), `y4_3` (modelo)\n"
   ]
  },
  {
   "cell_type": "code",
   "execution_count": 8,
   "metadata": {},
   "outputs": [],
   "source": [
    "### SEU CÓDIGO COMEÇA AQUI ###\n",
    "None\n",
    "### FIM DO CÓDIGO ###"
   ]
  },
  {
   "cell_type": "markdown",
   "metadata": {},
   "source": [
    "**Saída esperada**:\n",
    "\n",
    "- Gráfico da saída do processo $\\mathcal{M}_0$ e dos modelos $\\mathcal{M}_2$ e $\\mathcal{M}_3$ para um degrau próximo do ponto de operação\n",
    "- Gráfico da saída do processo $\\mathcal{M}_0$ e dos modelos $\\mathcal{M}_2$ e $\\mathcal{M}_3$ para um degrau afastado do ponto de operação\n",
    "___\n",
    "\n",
    "## Conclusões\n",
    "\n",
    "<mark>**Fazer:** escreva aqui as principais conclusões do trabalho.</mark>\n",
    "\n",
    "`[escreva aqui as conclusões]`\n",
    "___\n",
    "Fim (ufa!)"
   ]
  }
 ],
 "metadata": {
  "kernelspec": {
   "display_name": "Python 3",
   "language": "python",
   "name": "python3"
  },
  "language_info": {
   "codemirror_mode": {
    "name": "ipython",
    "version": 3
   },
   "file_extension": ".py",
   "mimetype": "text/x-python",
   "name": "python",
   "nbconvert_exporter": "python",
   "pygments_lexer": "ipython3",
   "version": "3.6.11"
  },
  "toc": {
   "base_numbering": 1,
   "nav_menu": {
    "height": "228px",
    "width": "370px"
   },
   "number_sections": true,
   "sideBar": true,
   "skip_h1_title": false,
   "title_cell": "Table of Contents",
   "title_sidebar": "Contents",
   "toc_cell": false,
   "toc_position": {},
   "toc_section_display": true,
   "toc_window_display": false
  }
 },
 "nbformat": 4,
 "nbformat_minor": 2
}
