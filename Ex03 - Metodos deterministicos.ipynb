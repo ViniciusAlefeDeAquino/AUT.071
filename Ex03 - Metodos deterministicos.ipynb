{
 "cells": [
  {
   "cell_type": "markdown",
   "metadata": {},
   "source": [
    "# TMSD - Ex03 - `[escreva seu nome aqui]` - `[escreva seu RA aqui]`\n",
    "\n",
    "Neste exercício você fará a modelagem do sistema por métodos determinísticos de primeira ordem ($\\mathcal{M}_2$) e de segunda ordem ($\\mathcal{M}_3$). Para isso, o sistema original não linear ($\\mathcal{M}_0$) será usado para obtermos os dados necessários.\n",
    "\n",
    "**Objetivos**\n",
    "- Simular o processo $\\mathcal{M}_0$ para obter dados de resposta ao degrau\n",
    "- Obter o modelo $\\mathcal{M}_2$, a partir de método determinístico de primeira ordem\n",
    "- Obter o modelo $\\mathcal{M}_3$, a partir de método determinístico de segunda ordem (Sundaresan)\n",
    "- Simular a resposta ao degrau de $\\mathcal{M}_0$, $\\mathcal{M}_2$ e $\\mathcal{M}_3$ e comparar\n",
    "- Analisar os resultados\n",
    "\n",
    "Para a simulação, você pode usar a função de integração numérica abaixo. **Importe as bibliotecas necessárias na célula abaixo.**"
   ]
  },
  {
   "cell_type": "code",
   "execution_count": 2,
   "metadata": {
    "code_folding": [],
    "run_control": {
     "marked": false
    }
   },
   "outputs": [],
   "source": [
    "### SEU CÓDIGO COMEÇA AQUI ###\n",
    "# Bibliotecas\n",
    "\n",
    "### FIM DO CÓDIGO ###\n",
    "\n",
    "# Integração numérica (eficiente)\n",
    "def intRK2(odeFun, x0, t, args=()):\n",
    "    \"\"\"\n",
    "    Runge-Kutta integration (same parameters as scipy.integrate.odeint)\n",
    "    \n",
    "    Inputs:\n",
    "       - odeFun: (callable) ordinary differential equation, e.g. \"x, t: odeFun(x, t)\"\n",
    "       - x0: vector of initial states, ex. \"x0 = np.array([1.0, 0.3, 3.1])\" for a 3D system\n",
    "       - t: np.array containing the time stamps, ex \"t=np.arange(0, 100, 0.02)\"\n",
    "    \n",
    "    Outputs:\n",
    "       - x: array of states, shape (len(t), len(x0))\n",
    "       - t: array of time stamps, shape (len(t))\n",
    "    \n",
    "    MACSIN - v001 - Leandro Freitas (dez-2017)\n",
    "    \"\"\"\n",
    "    \n",
    "    # pre-allocate state vector\n",
    "    x = np.empty((len(t),len(x0)))\n",
    "    \n",
    "    @jit(nopython=True)\n",
    "    def auxFunc(x0, t, x, args):\n",
    "        # initial state\n",
    "        x[0, :] = x0\n",
    "\n",
    "        # integration step\n",
    "        dt = t[1]-t[0]\n",
    "\n",
    "        # loop to compute the states\n",
    "        for k in range(1, len(t)):\n",
    "            k1F = dt*odeFun(x[k-1, :], t[k], *args)\n",
    "            k2F = dt*odeFun(x[k-1, :] + k1F/2., t[k], *args)\n",
    "            k3F = dt*odeFun(x[k-1, :] + k2F/2., t[k], *args)\n",
    "            k4F = dt*odeFun(x[k-1, :] + k3F, t[k], *args)\n",
    "            # compute the actual state\n",
    "            x[k, :] = x[k-1, :] + (k1F+2.*k2F+2.*k3F+k4F)/6.\n",
    "\n",
    "        return x\n",
    "    \n",
    "    return auxFunc(x0, t, x, args)"
   ]
  },
  {
   "cell_type": "markdown",
   "metadata": {},
   "source": [
    "## Simulando o Processo Não-linear\n",
    "\n",
    "Primeiro, vamos obter os dados de simulação.\n",
    "\n",
    "<mark>**Fazer:**</mark>\n",
    "1. Simule o processo não linear e obtenha os dados de entrada `u0_1` e saída `y0_1` da resposta ao degrau. Esse conjunto de dados será usado para estimar o modelo;\n",
    "1. Obtenha um segundo conjunto de dados de entrada `u0_2` e saída `y0_2` por uma resposta ao degrau com uma amplitude diferente da primeira, menor ou maior, mas ainda próximo da região de operação. Esse conjunto de dados será usado apenas para comparar a resposta do processo com a resposta dos modelos;\n",
    "1. Obtenha ainda um terceiro conjunto de dados de entrada `u0_3` e saída `y0_3` por uma resposta ao degrau mais afastada do ponto de operação do sistema. Esse conjunto de dados será usado apenas para comparar a resposta do processo com a resposta dos modelos;\n",
    "1. Mostre a resposta ao degrau obtida em dois gráficos, um para entrada e outro para a saída dos dados (`u0_1`, `y0_1`);\n",
    "1. Mostre as saídas `y0_2` e `y0_3` em dois gráficos distintos.\n",
    "\n",
    "***Obs.**: Todo gráfico deve ter rótulo nos eixos. Ajuste as escalas e eixos dos gráficos de forma a ficarem bem apresentados!!!*"
   ]
  },
  {
   "cell_type": "code",
   "execution_count": 4,
   "metadata": {},
   "outputs": [],
   "source": [
    "### SEU CÓDIGO COMEÇA AQUI ###\n",
    "\n",
    "### FIM DO CÓDIGO ###"
   ]
  },
  {
   "cell_type": "markdown",
   "metadata": {},
   "source": [
    "**Saída esperada**:\n",
    "\n",
    "- Gráfico de entrada e saída do sistema para um degrau próximo do ponto de operação\n",
    "- Gráfico da saída do sistema para um degrau diferente do primeiro, mas também próximo do ponto de operação\n",
    "- Gráfico da saída do sistema para um degrau afastado do ponto de operação\n",
    "___\n",
    "\n",
    "## Modelo FOPDT $\\mathcal{M}_2$\n",
    "\n",
    "<mark>**Fazer:** obtenha o modelo.</mark>\n",
    "1. Obtenha o modelo $\\mathcal{M}_2$ de primeira ordem com atraso puro de tempo para o sistema\n",
    "2. Mostre um gráfico (com grid!) comparando as duas saídas `y0_1` (processo) e `y2_1` (modelo)"
   ]
  },
  {
   "cell_type": "code",
   "execution_count": 8,
   "metadata": {},
   "outputs": [],
   "source": [
    "### SEU CÓDIGO COMEÇA AQUI ###\n",
    "None\n",
    "### FIM DO CÓDIGO ###"
   ]
  },
  {
   "cell_type": "markdown",
   "metadata": {},
   "source": [
    "**Saída esperada**:\n",
    "\n",
    "- Gráfico da saída do processo $\\mathcal{M}_0$ e do modelo $\\mathcal{M}_1$ para um degrau próximo do ponto de operação\n",
    "- Gráfico da saída do processo $\\mathcal{M}_0$ e do modelo $\\mathcal{M}_1$ para um degrau afastado do ponto de operação considerado\n",
    "___\n",
    "\n",
    "## Modelo SOPDT $\\mathcal{M}_3$\n",
    "\n",
    "<mark>**Fazer:** obtenha o modelo.</mark>\n",
    "1. Obtenha o modelo $\\mathcal{M}_3$ de primeira ordem com atraso puro de tempo para o sistema\n",
    "2. Mostre um gráfico (com grid!) comparando as duas saídas `y0_1` (processo) e `y3_1` (modelo)\n",
    "\n",
    "**Você deve mostrar todos os passos usados para cálculo dos parâmetros, mostrando a inclinação da reta considerada e a área obtida. Use mais de uma célula se precisar (até três, no máximo!).**"
   ]
  },
  {
   "cell_type": "code",
   "execution_count": 8,
   "metadata": {},
   "outputs": [],
   "source": [
    "### SEU CÓDIGO COMEÇA AQUI ###\n",
    "None\n",
    "### FIM DO CÓDIGO ###"
   ]
  },
  {
   "cell_type": "code",
   "execution_count": 8,
   "metadata": {},
   "outputs": [],
   "source": [
    "### SEU CÓDIGO COMEÇA AQUI ###\n",
    "None\n",
    "### FIM DO CÓDIGO ###"
   ]
  },
  {
   "cell_type": "code",
   "execution_count": 8,
   "metadata": {},
   "outputs": [],
   "source": [
    "### SEU CÓDIGO COMEÇA AQUI ###\n",
    "None\n",
    "### FIM DO CÓDIGO ###"
   ]
  },
  {
   "cell_type": "markdown",
   "metadata": {},
   "source": [
    "**Saída esperada**:\n",
    "\n",
    "- Gráfico da saída do processo $\\mathcal{M}_0$ e do modelo $\\mathcal{M}_3$ para um degrau próximo do ponto de operação\n",
    "___\n",
    "\n",
    "## Comparando os modelos $\\mathcal{M}_2$ e $\\mathcal{M}_3$\n",
    "\n",
    "<mark>**Fazer:** comparação.</mark>\n",
    "1. Mostre um mesmo gráfico comparando as três saídas `y0_2` (processo), `y2_2` (modelo FOPDT) e `y3_2` (modelo SOPDT)\n",
    "1. Mostre um mesmo gráfico comparando as três saídas `y0_3` (processo), `y2_3` (modelo FOPDT) e `y3_3` (modelo SOPDT)\n"
   ]
  },
  {
   "cell_type": "code",
   "execution_count": 8,
   "metadata": {},
   "outputs": [],
   "source": [
    "### SEU CÓDIGO COMEÇA AQUI ###\n",
    "None\n",
    "### FIM DO CÓDIGO ###"
   ]
  },
  {
   "cell_type": "markdown",
   "metadata": {},
   "source": [
    "**Saída esperada**:\n",
    "\n",
    "- Gráfico da saída do processo $\\mathcal{M}_0$ e dos modelos $\\mathcal{M}_2$ e $\\mathcal{M}_3$ para um degrau próximo do ponto de operação\n",
    "- Gráfico da saída do processo $\\mathcal{M}_0$ e dos modelos $\\mathcal{M}_2$ e $\\mathcal{M}_3$ para um degrau afastado do ponto de operação\n",
    "___\n",
    "\n",
    "## Conclusões\n",
    "\n",
    "<mark>**Fazer:** escreva aqui as principais conclusões do trabalho.</mark>\n",
    "\n",
    "`[escreva aqui as conclusões]`\n",
    "___\n",
    "Fim (ufa!)"
   ]
  }
 ],
 "metadata": {
  "kernelspec": {
   "display_name": "Python 3",
   "language": "python",
   "name": "python3"
  },
  "language_info": {
   "codemirror_mode": {
    "name": "ipython",
    "version": 3
   },
   "file_extension": ".py",
   "mimetype": "text/x-python",
   "name": "python",
   "nbconvert_exporter": "python",
   "pygments_lexer": "ipython3",
   "version": "3.6.11"
  },
  "toc": {
   "base_numbering": 1,
   "nav_menu": {
    "height": "228px",
    "width": "370px"
   },
   "number_sections": true,
   "sideBar": true,
   "skip_h1_title": false,
   "title_cell": "Table of Contents",
   "title_sidebar": "Contents",
   "toc_cell": false,
   "toc_position": {},
   "toc_section_display": true,
   "toc_window_display": false
  }
 },
 "nbformat": 4,
 "nbformat_minor": 2
}
